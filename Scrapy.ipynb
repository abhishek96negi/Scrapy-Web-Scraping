{
 "cells": [
  {
   "cell_type": "markdown",
   "id": "4bf02ab5",
   "metadata": {},
   "source": [
    "# What is Scrapy?\n",
    "\n",
    "Scrapy is a free and open-source web-crawling framework written in python.\n",
    "\n",
    "It was originally designed for web scrapping but can also be used for extracting the data using the APIs or as a general purpose web crawler.\n",
    "\n",
    "It is currently maintained by Scrapinghub Ltd."
   ]
  },
  {
   "cell_type": "markdown",
   "id": "7a445f96",
   "metadata": {},
   "source": [
    "# What is A WebCrawler?\n",
    "\n",
    "* A web-crawler is also known as a web spider, automatic indexer or simply crawler.\n",
    "\n",
    "* It is an internet bot that helps in web indexing\n",
    "\n",
    "* Web crawlers helps in collecting information from a webpage and the links related to them\n",
    "\n",
    "* It also helps in validating HTML code and hyperlinks.\n",
    "\n",
    "* They crawl one page at a time until all the pages are indexed.\n"
   ]
  },
  {
   "cell_type": "markdown",
   "id": "92a0ee5b",
   "metadata": {},
   "source": [
    "# How to Intsall Scrapy?\n",
    "\n",
    "To install scrapy, simply run the following in the command prompt or in the terminal, or simply you can add the package from the project interpreter too.\n",
    "\n",
    "**pip install scrapy**"
   ]
  }
 ],
 "metadata": {
  "kernelspec": {
   "display_name": "Python 3 (ipykernel)",
   "language": "python",
   "name": "python3"
  },
  "language_info": {
   "codemirror_mode": {
    "name": "ipython",
    "version": 3
   },
   "file_extension": ".py",
   "mimetype": "text/x-python",
   "name": "python",
   "nbconvert_exporter": "python",
   "pygments_lexer": "ipython3",
   "version": "3.7.11"
  }
 },
 "nbformat": 4,
 "nbformat_minor": 5
}
